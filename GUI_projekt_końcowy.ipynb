{
  "nbformat": 4,
  "nbformat_minor": 0,
  "metadata": {
    "colab": {
      "name": "GUI_projekt_końcowy.ipynb",
      "provenance": [],
      "collapsed_sections": []
    },
    "kernelspec": {
      "name": "python3",
      "display_name": "Python 3"
    },
    "language_info": {
      "name": "python"
    }
  },
  "cells": [
    {
      "cell_type": "code",
      "metadata": {
        "cellView": "form",
        "id": "ABV3vFHpX-GQ"
      },
      "source": [
        "#@title SPRAWDŹ SWOJE POLITYCZNE PREFERENCJE\n",
        "\n",
        "ID = \"LechPoznan\" #@param [\"\", \"\"] {allow-input: true}\n"
      ],
      "execution_count": 69,
      "outputs": []
    },
    {
      "cell_type": "code",
      "metadata": {
        "id": "5fBnSBt8Yqx1"
      },
      "source": [
        "import tweepy\n",
        "import pandas as pd\n",
        "import time\n",
        "\n",
        "# Credentials\n",
        "\n",
        "consumer_key = \"5MzB6K9I3B0hVF0BOs2UjybSz\"\n",
        "consumer_secret = \"hiPjP10G7bTuomHflC1vCWzwcdsAB444WkE0MkSZwGGfALoxBS\"\n",
        "access_token = \"1437020925040513029-s6Dqtv9lPyufnlKtzm9tF3BQEQ8FCA\"\n",
        "access_token_secret = \"D9SUsW12b1ya9LuWPNNmGmU0NhKIJzoeFfHsIy4xgdJ7x\"\n",
        "\n",
        "auth = tweepy.OAuthHandler(consumer_key, consumer_secret)\n",
        "auth.set_access_token(access_token, access_token_secret)\n",
        "api = tweepy.API(auth,wait_on_rate_limit=True)\n",
        "\n",
        "tweets = []\n",
        "\n",
        "def username_tweets_to_csv(username,count):\n",
        "    try:      \n",
        "        # Creation of query method using parameters\n",
        "        #tweets = tweepy.Cursor(api.user_timeline,id=username).items(count)\n",
        "        tweets = tweepy.Cursor(api.user_timeline,id=username, since='01-08-2021').items(count)\n",
        "\n",
        "        # Pulling information from tweets iterable object\n",
        "        tweets_list = [[tweet.user.screen_name, tweet.created_at, tweet.id, tweet.text] for tweet in tweets]\n",
        "\n",
        "        # Creation of dataframe from tweets list\n",
        "        # Add or remove columns as you remove tweet information\n",
        "        tweets_df = pd.DataFrame(tweets_list,columns=['Author', 'Datetime', 'Tweet Id', 'Text'])\n",
        "        \n",
        "\n",
        "        # Converting dataframe to CSV \n",
        "        #tweets_df.to_csv('{}.csv'.format(username), sep=',', index = False)\n",
        "        return tweets_df\n",
        "\n",
        "    except BaseException as e:\n",
        "          print('failed on_status,',str(e))\n",
        "          time.sleep(3)\n",
        "\n",
        "\n",
        "count = 1000\n",
        "data = username_tweets_to_csv(ID, count)"
      ],
      "execution_count": 78,
      "outputs": []
    },
    {
      "cell_type": "code",
      "metadata": {
        "colab": {
          "base_uri": "https://localhost:8080/",
          "height": 419
        },
        "id": "VMjz7R5hbGvs",
        "outputId": "f2e8c889-340d-4770-a5ea-862cc20c220e"
      },
      "source": [
        "data"
      ],
      "execution_count": 79,
      "outputs": [
        {
          "output_type": "execute_result",
          "data": {
            "text/html": [
              "<div>\n",
              "<style scoped>\n",
              "    .dataframe tbody tr th:only-of-type {\n",
              "        vertical-align: middle;\n",
              "    }\n",
              "\n",
              "    .dataframe tbody tr th {\n",
              "        vertical-align: top;\n",
              "    }\n",
              "\n",
              "    .dataframe thead th {\n",
              "        text-align: right;\n",
              "    }\n",
              "</style>\n",
              "<table border=\"1\" class=\"dataframe\">\n",
              "  <thead>\n",
              "    <tr style=\"text-align: right;\">\n",
              "      <th></th>\n",
              "      <th>Author</th>\n",
              "      <th>Datetime</th>\n",
              "      <th>Tweet Id</th>\n",
              "      <th>Text</th>\n",
              "    </tr>\n",
              "  </thead>\n",
              "  <tbody>\n",
              "    <tr>\n",
              "      <th>0</th>\n",
              "      <td>LechPoznan</td>\n",
              "      <td>2021-09-19 09:35:49</td>\n",
              "      <td>1439523612906729475</td>\n",
              "      <td>Za 9️⃣ dni znowu widzimy się przy Bułgarskiej....</td>\n",
              "    </tr>\n",
              "    <tr>\n",
              "      <th>1</th>\n",
              "      <td>LechPoznan</td>\n",
              "      <td>2021-09-18 19:32:01</td>\n",
              "      <td>1439311266640809991</td>\n",
              "      <td>1⃣8⃣3⃣2⃣ dni czekaliśmy na ligowego gola zawod...</td>\n",
              "    </tr>\n",
              "    <tr>\n",
              "      <th>2</th>\n",
              "      <td>LechPoznan</td>\n",
              "      <td>2021-09-18 17:53:03</td>\n",
              "      <td>1439286361362735107</td>\n",
              "      <td>𝚆𝚎𝚎𝚔𝚎𝚗𝚍 𝟼/𝟼\\n\\n☑️ Lech Poznań - Wisła Kraków 5...</td>\n",
              "    </tr>\n",
              "    <tr>\n",
              "      <th>3</th>\n",
              "      <td>LechPoznan</td>\n",
              "      <td>2021-09-18 15:13:27</td>\n",
              "      <td>1439246193725431808</td>\n",
              "      <td>👏🏼 https://t.co/QOl9Q8BHlA</td>\n",
              "    </tr>\n",
              "    <tr>\n",
              "      <th>4</th>\n",
              "      <td>LechPoznan</td>\n",
              "      <td>2021-09-18 13:59:42</td>\n",
              "      <td>1439227634802647047</td>\n",
              "      <td>Braaaaawo! 🤝 https://t.co/tgdY0EkPkt</td>\n",
              "    </tr>\n",
              "    <tr>\n",
              "      <th>...</th>\n",
              "      <td>...</td>\n",
              "      <td>...</td>\n",
              "      <td>...</td>\n",
              "      <td>...</td>\n",
              "    </tr>\n",
              "    <tr>\n",
              "      <th>995</th>\n",
              "      <td>LechPoznan</td>\n",
              "      <td>2021-04-17 16:32:12</td>\n",
              "      <td>1383458280542916619</td>\n",
              "      <td>⏱️ 46' Początek drugiej połowy meczu. \\n\\nRela...</td>\n",
              "    </tr>\n",
              "    <tr>\n",
              "      <th>996</th>\n",
              "      <td>LechPoznan</td>\n",
              "      <td>2021-04-17 16:25:53</td>\n",
              "      <td>1383456691023347714</td>\n",
              "      <td>⏱️ 45'+1 ⏸️ Pierwsza połowa meczu dla gospodar...</td>\n",
              "    </tr>\n",
              "    <tr>\n",
              "      <th>997</th>\n",
              "      <td>LechPoznan</td>\n",
              "      <td>2021-04-17 15:59:38</td>\n",
              "      <td>1383450088312164360</td>\n",
              "      <td>⏱️ 29' Drugi gol dla gospodarzy. Piątkowski. \\...</td>\n",
              "    </tr>\n",
              "    <tr>\n",
              "      <th>998</th>\n",
              "      <td>LechPoznan</td>\n",
              "      <td>2021-04-17 15:42:43</td>\n",
              "      <td>1383445829604704259</td>\n",
              "      <td>⏱️ 10' ⚽️ Gospodarze wychodzą na prowadzenie. ...</td>\n",
              "    </tr>\n",
              "    <tr>\n",
              "      <th>999</th>\n",
              "      <td>LechPoznan</td>\n",
              "      <td>2021-04-17 15:30:15</td>\n",
              "      <td>1383442690633650180</td>\n",
              "      <td>⏱️ 1' Zaczynamy mecz! \\n\\nRelacja 𝑳𝑰𝑽𝑬 👉🏼 http...</td>\n",
              "    </tr>\n",
              "  </tbody>\n",
              "</table>\n",
              "<p>1000 rows × 4 columns</p>\n",
              "</div>"
            ],
            "text/plain": [
              "         Author  ...                                               Text\n",
              "0    LechPoznan  ...  Za 9️⃣ dni znowu widzimy się przy Bułgarskiej....\n",
              "1    LechPoznan  ...  1⃣8⃣3⃣2⃣ dni czekaliśmy na ligowego gola zawod...\n",
              "2    LechPoznan  ...  𝚆𝚎𝚎𝚔𝚎𝚗𝚍 𝟼/𝟼\\n\\n☑️ Lech Poznań - Wisła Kraków 5...\n",
              "3    LechPoznan  ...                         👏🏼 https://t.co/QOl9Q8BHlA\n",
              "4    LechPoznan  ...               Braaaaawo! 🤝 https://t.co/tgdY0EkPkt\n",
              "..          ...  ...                                                ...\n",
              "995  LechPoznan  ...  ⏱️ 46' Początek drugiej połowy meczu. \\n\\nRela...\n",
              "996  LechPoznan  ...  ⏱️ 45'+1 ⏸️ Pierwsza połowa meczu dla gospodar...\n",
              "997  LechPoznan  ...  ⏱️ 29' Drugi gol dla gospodarzy. Piątkowski. \\...\n",
              "998  LechPoznan  ...  ⏱️ 10' ⚽️ Gospodarze wychodzą na prowadzenie. ...\n",
              "999  LechPoznan  ...  ⏱️ 1' Zaczynamy mecz! \\n\\nRelacja 𝑳𝑰𝑽𝑬 👉🏼 http...\n",
              "\n",
              "[1000 rows x 4 columns]"
            ]
          },
          "metadata": {},
          "execution_count": 79
        }
      ]
    },
    {
      "cell_type": "code",
      "metadata": {
        "id": "x0vOmwil3kCI"
      },
      "source": [
        ""
      ],
      "execution_count": null,
      "outputs": []
    },
    {
      "cell_type": "code",
      "metadata": {
        "colab": {
          "base_uri": "https://localhost:8080/"
        },
        "id": "SgRpvHyNbmJB",
        "outputId": "dbaf3565-d3b4-4a08-bdd3-61c10bb46bb5"
      },
      "source": [
        "pip install dash pandas"
      ],
      "execution_count": 53,
      "outputs": [
        {
          "output_type": "stream",
          "name": "stdout",
          "text": [
            "Collecting dash\n",
            "  Downloading dash-2.0.0-py3-none-any.whl (7.3 MB)\n",
            "\u001b[K     |████████████████████████████████| 7.3 MB 28.9 MB/s \n",
            "\u001b[?25hRequirement already satisfied: pandas in /usr/local/lib/python3.7/dist-packages (1.1.5)\n",
            "Collecting flask-compress\n",
            "  Downloading Flask_Compress-1.10.1-py3-none-any.whl (7.9 kB)\n",
            "Collecting dash-table==5.0.0\n",
            "  Downloading dash_table-5.0.0.tar.gz (3.4 kB)\n",
            "Requirement already satisfied: Flask>=1.0.4 in /usr/local/lib/python3.7/dist-packages (from dash) (1.1.4)\n",
            "Collecting dash-core-components==2.0.0\n",
            "  Downloading dash_core_components-2.0.0.tar.gz (3.4 kB)\n",
            "Collecting dash-html-components==2.0.0\n",
            "  Downloading dash_html_components-2.0.0.tar.gz (3.8 kB)\n",
            "Collecting plotly>=5.0.0\n",
            "  Downloading plotly-5.3.1-py2.py3-none-any.whl (23.9 MB)\n",
            "\u001b[K     |████████████████████████████████| 23.9 MB 14 kB/s \n",
            "\u001b[?25hRequirement already satisfied: click<8.0,>=5.1 in /usr/local/lib/python3.7/dist-packages (from Flask>=1.0.4->dash) (7.1.2)\n",
            "Requirement already satisfied: Jinja2<3.0,>=2.10.1 in /usr/local/lib/python3.7/dist-packages (from Flask>=1.0.4->dash) (2.11.3)\n",
            "Requirement already satisfied: Werkzeug<2.0,>=0.15 in /usr/local/lib/python3.7/dist-packages (from Flask>=1.0.4->dash) (1.0.1)\n",
            "Requirement already satisfied: itsdangerous<2.0,>=0.24 in /usr/local/lib/python3.7/dist-packages (from Flask>=1.0.4->dash) (1.1.0)\n",
            "Requirement already satisfied: MarkupSafe>=0.23 in /usr/local/lib/python3.7/dist-packages (from Jinja2<3.0,>=2.10.1->Flask>=1.0.4->dash) (2.0.1)\n",
            "Requirement already satisfied: six in /usr/local/lib/python3.7/dist-packages (from plotly>=5.0.0->dash) (1.15.0)\n",
            "Collecting tenacity>=6.2.0\n",
            "  Downloading tenacity-8.0.1-py3-none-any.whl (24 kB)\n",
            "Requirement already satisfied: numpy>=1.15.4 in /usr/local/lib/python3.7/dist-packages (from pandas) (1.19.5)\n",
            "Requirement already satisfied: pytz>=2017.2 in /usr/local/lib/python3.7/dist-packages (from pandas) (2018.9)\n",
            "Requirement already satisfied: python-dateutil>=2.7.3 in /usr/local/lib/python3.7/dist-packages (from pandas) (2.8.2)\n",
            "Collecting brotli\n",
            "  Downloading Brotli-1.0.9-cp37-cp37m-manylinux1_x86_64.whl (357 kB)\n",
            "\u001b[K     |████████████████████████████████| 357 kB 51.8 MB/s \n",
            "\u001b[?25hBuilding wheels for collected packages: dash-core-components, dash-html-components, dash-table\n",
            "  Building wheel for dash-core-components (setup.py) ... \u001b[?25l\u001b[?25hdone\n",
            "  Created wheel for dash-core-components: filename=dash_core_components-2.0.0-py3-none-any.whl size=3821 sha256=83b1d8d8763d024a61c8d06f0eec1cf8bb3f5cdd68ebde862d11938dab78d0ef\n",
            "  Stored in directory: /root/.cache/pip/wheels/00/f9/c7/1a6437d794ed753ea9bc9079e761d4fc803a1f1f5d3697b9ec\n",
            "  Building wheel for dash-html-components (setup.py) ... \u001b[?25l\u001b[?25hdone\n",
            "  Created wheel for dash-html-components: filename=dash_html_components-2.0.0-py3-none-any.whl size=4089 sha256=bf9af2601f7d1a7da7690cbce274b48cccbb649d7849e140d0e5ce7c883be62f\n",
            "  Stored in directory: /root/.cache/pip/wheels/ec/6b/81/05aceabd8b27f724e2c96784016287cc1bfbc349ebfda451de\n",
            "  Building wheel for dash-table (setup.py) ... \u001b[?25l\u001b[?25hdone\n",
            "  Created wheel for dash-table: filename=dash_table-5.0.0-py3-none-any.whl size=3911 sha256=cf1c2183b53f3a39760206d6ebb841c1c066bef4ffe1b180e805ac9deb299d71\n",
            "  Stored in directory: /root/.cache/pip/wheels/85/5d/4e/7c276b57992951dbe770bf5caad6448d0539c510663aefd2e2\n",
            "Successfully built dash-core-components dash-html-components dash-table\n",
            "Installing collected packages: tenacity, brotli, plotly, flask-compress, dash-table, dash-html-components, dash-core-components, dash\n",
            "  Attempting uninstall: plotly\n",
            "    Found existing installation: plotly 4.4.1\n",
            "    Uninstalling plotly-4.4.1:\n",
            "      Successfully uninstalled plotly-4.4.1\n",
            "Successfully installed brotli-1.0.9 dash-2.0.0 dash-core-components-2.0.0 dash-html-components-2.0.0 dash-table-5.0.0 flask-compress-1.10.1 plotly-5.3.1 tenacity-8.0.1\n"
          ]
        }
      ]
    },
    {
      "cell_type": "code",
      "metadata": {
        "colab": {
          "base_uri": "https://localhost:8080/"
        },
        "id": "CbmvJO2yiXDL",
        "outputId": "2cf54fc5-ec51-4995-e98d-ca5e55d5994e"
      },
      "source": [
        "import dash\n",
        "import dash_core_components as dcc\n",
        "import dash_html_components as html\n",
        "import plotly.express as px\n",
        "import pandas as pd\n",
        "\n",
        "external_stylesheets = [\n",
        "    'https://codepen.io/chriddyp/pen/bWLwgP.css'\n",
        "]\n",
        "\n",
        "# Create Dash app\n",
        "app = dash.Dash(__name__, external_stylesheets=external_stylesheets)\n",
        "# Expose Flask instance\n",
        "server = app.server\n",
        "\n",
        "# Alternative version, using flask server directly (add import flask in imports)\n",
        "# server = flask.Flask(__name__)\n",
        "# app = dash.Dash(__name__, external_stylesheets=external_stylesheets, server=server)\n",
        "\n",
        "# Assume you have a \"long-form\" data frame\n",
        "# see https://plotly.com/python/px-arguments/ for more options\n",
        "df = pd.DataFrame({\n",
        "    \"Fruit\": [\"Apples\", \"Oranges\", \"Bananas\", \"Apples\", \"Oranges\", \"Bananas\"],\n",
        "    \"Amount\": [4, 1, 2, 2, 4, 5],\n",
        "    \"City\": [\"SF\", \"SF\", \"SF\", \"Montreal\", \"Montreal\", \"Montreal\"]\n",
        "})\n",
        "\n",
        "fig = px.bar(\n",
        "    df, \n",
        "    x=\"Fruit\", y=\"Amount\", color=\"City\", barmode=\"group\"\n",
        ")\n",
        "\n",
        "app.layout = html.Div(children=[\n",
        "    html.H1(children='Hello Dash'),\n",
        "\n",
        "    html.Div(children='''\n",
        "        Dash: A web application framework for Python. Customized right here!\n",
        "    '''),\n",
        "    dcc.Graph(\n",
        "        id='example-graph',\n",
        "        figure=fig\n",
        "    )\n",
        "])\n",
        "\n",
        "# Only for running on development mode\n",
        "if __name__ == '__main__':\n",
        "    app.run_server(debug=False)"
      ],
      "execution_count": 61,
      "outputs": [
        {
          "output_type": "stream",
          "name": "stdout",
          "text": [
            "Dash is running on http://127.0.0.1:8050/\n",
            "\n",
            "Dash is running on http://127.0.0.1:8050/\n",
            "\n",
            "Dash is running on http://127.0.0.1:8050/\n",
            "\n",
            "Dash is running on http://127.0.0.1:8050/\n",
            "\n",
            "Dash is running on http://127.0.0.1:8050/\n",
            "\n",
            "Dash is running on http://127.0.0.1:8050/\n",
            "\n",
            "Dash is running on http://127.0.0.1:8050/\n",
            "\n",
            "Dash is running on http://127.0.0.1:8050/\n",
            "\n",
            " * Serving Flask app \"__main__\" (lazy loading)\n",
            " * Environment: production\n",
            "\u001b[31m   WARNING: This is a development server. Do not use it in a production deployment.\u001b[0m\n",
            "\u001b[2m   Use a production WSGI server instead.\u001b[0m\n",
            " * Debug mode: off\n"
          ]
        }
      ]
    },
    {
      "cell_type": "code",
      "metadata": {
        "id": "BjNsgKAAzhvw"
      },
      "source": [
        ""
      ],
      "execution_count": null,
      "outputs": []
    }
  ]
}