{
  "nbformat": 4,
  "nbformat_minor": 0,
  "metadata": {
    "colab": {
      "name": "Kopia notatnika GUI_projekt_końcowy.ipynb",
      "provenance": [],
      "collapsed_sections": [],
      "include_colab_link": true
    },
    "kernelspec": {
      "name": "python3",
      "display_name": "Python 3"
    },
    "language_info": {
      "name": "python"
    }
  },
  "cells": [
    {
      "cell_type": "markdown",
      "metadata": {
        "id": "view-in-github",
        "colab_type": "text"
      },
      "source": [
        "<a href=\"https://colab.research.google.com/github/ZDDATApol4/prediction-political-preferences/blob/main/notebooks/Final_GUI_projekt_ko%C5%84cowy.ipynb\" target=\"_parent\"><img src=\"https://colab.research.google.com/assets/colab-badge.svg\" alt=\"Open In Colab\"/></a>"
      ]
    },
    {
      "cell_type": "code",
      "metadata": {
        "id": "VZ1wCL1DbIi3",
        "cellView": "form"
      },
      "source": [
        "#@title <----- Najpierw uruchom to\n",
        "\n",
        "%%capture\n",
        "!git clone https://github.com/ZDDATApol4/prediction-political-preferences/\n",
        "\n",
        "!pip install spacy==3\n",
        "!python -m spacy download pl_core_news_sm\n",
        "!pip install stop_words\n",
        "\n",
        "import tweepy\n",
        "import pandas as pd\n",
        "import time\n",
        "import keras\n",
        "import spacy\n",
        "import numpy as np\n",
        "import seaborn as sns\n",
        "import string\n",
        "from string import digits\n",
        "import re\n",
        "from keras_preprocessing.text import Tokenizer\n",
        "from keras.preprocessing.sequence import pad_sequences\n",
        "from tqdm import tqdm\n",
        "from keras.models import load_model\n",
        "from plotly.offline import iplot\n",
        "import matplotlib.pyplot as plt\n",
        "%matplotlib inline\n",
        "\n",
        "from stop_words import get_stop_words\n",
        "from tensorflow.keras.utils import to_categorical\n",
        "\n",
        "\n",
        "# Twitter_Credentials\n",
        "\n",
        "consumer_key = \"5MzB6K9I3B0hVF0BOs2UjybSz\"\n",
        "consumer_secret = \"hiPjP10G7bTuomHflC1vCWzwcdsAB444WkE0MkSZwGGfALoxBS\"\n",
        "access_token = \"1437020925040513029-s6Dqtv9lPyufnlKtzm9tF3BQEQ8FCA\"\n",
        "access_token_secret = \"D9SUsW12b1ya9LuWPNNmGmU0NhKIJzoeFfHsIy4xgdJ7x\"\n",
        "\n",
        "auth = tweepy.OAuthHandler(consumer_key, consumer_secret)\n",
        "auth.set_access_token(access_token, access_token_secret)\n",
        "api = tweepy.API(auth,wait_on_rate_limit=True)\n",
        "\n",
        "tweets = []\n",
        "\n",
        "def username_tweets_to_csv(username,count):\n",
        "    try:      \n",
        "        # Creation of query method using parameters\n",
        "        tweets = tweepy.Cursor(api.user_timeline,id=username).items(count)\n",
        "\n",
        "        # Pulling information from tweets iterable object\n",
        "        tweets_list = [[tweet.user.screen_name, tweet.created_at, tweet.id, tweet.text] for tweet in tweets]\n",
        "\n",
        "        # Creation of dataframe from tweets list\n",
        "        tweets_df = pd.DataFrame(tweets_list,columns=['Author', 'Datetime', 'Tweet Id', 'Text'])\n",
        "                      \n",
        "        return tweets_df\n",
        "\n",
        "    except BaseException as e:\n",
        "          print('failed on_status,',str(e))\n",
        "          time.sleep(3)\n",
        "\n",
        "def lemmatize_text(text_corpus):\n",
        "  lemmatized_text = []\n",
        "  for tweet in tqdm(text_corpus):\n",
        "    doc = nlp(tweet)\n",
        "    doc_lemmatized = []\n",
        "    for x in doc:\n",
        "      if x.is_punct == False and x.is_stop == False:\n",
        "        doc_lemmatized.append(x.lemma_)\n",
        "    lemmatized_text.append(doc_lemmatized)\n",
        "  return lemmatized_text\n",
        "\n",
        "def tokenize(num_words, lemmatized_text, maxlen):\n",
        "  tokenizer = Tokenizer(num_words=num_words)\n",
        "  tokenizer.fit_on_texts(lemmatized_text)\n",
        "  sequences = tokenizer.texts_to_sequences(lemmatized_text)\n",
        "  padded = pad_sequences(sequences, maxlen=maxlen)\n",
        "  print(padded.shape)\n",
        "  return padded\n",
        "\n",
        "nlp = spacy.load('pl_core_news_sm')"
      ],
      "execution_count": 39,
      "outputs": []
    },
    {
      "cell_type": "code",
      "metadata": {
        "id": "ABV3vFHpX-GQ",
        "cellView": "form",
        "outputId": "9d66f7fc-034e-497b-fd56-22d79f9cca8c",
        "colab": {
          "base_uri": "https://localhost:8080/",
          "height": 672
        }
      },
      "source": [
        "#@title Wpisz Twitter ID i naciśnij PLAY\n",
        "\n",
        "ID = \"Bart_Wielinski\" #@param [\"\", \"\"] {allow-input: true}\n",
        "\n",
        "count = 1000\n",
        "data = username_tweets_to_csv(ID, count)\n",
        "\n",
        "\n",
        "#Data processing\n",
        "\n",
        "data = data[data['Datetime'] >= pd.to_datetime('2021-08-01')]\n",
        "test_text_corpus = data['Text']\n",
        "data = data.astype({'Datetime' : 'datetime64'})\n",
        "stop_words = list(get_stop_words(\"pl\"))\n",
        "df_m = data.reset_index(drop=True)\n",
        "REPLACE_BY_SPACE_RE = re.compile('[/(){}\\[\\]\\|@,;]')\n",
        "BAD_SYMBOLS_RE = re.compile('[^0-9a-z #+_]')\n",
        "STOPWORDS = set(stop_words)\n",
        "\n",
        "\n",
        "def clean_text(text):\n",
        "    \"\"\"\n",
        "        text: a string\n",
        "        \n",
        "        return: modified initial string\n",
        "    \"\"\"\n",
        "    text = text.lower() # lowercase text\n",
        "    text = REPLACE_BY_SPACE_RE.sub(' ', text) # replace REPLACE_BY_SPACE_RE symbols by space in text. substitute the matched string in REPLACE_BY_SPACE_RE with space.\n",
        "    text = BAD_SYMBOLS_RE.sub('', text) # remove symbols which are in BAD_SYMBOLS_RE from text. substitute the matched string in BAD_SYMBOLS_RE with nothing. \n",
        "    text = text.replace('x', '')\n",
        "    text = ' '.join(word for word in text.split() if word not in STOPWORDS) # remove stopwors from text\n",
        "    return text\n",
        "    \n",
        "def clean_text2(text):\n",
        "    regex = r'https?:\\/\\/.*[\\r\\n]*'\n",
        "    text = re.sub(regex, '', text, flags=re.MULTILINE)\n",
        "    text = re.sub(regex, '', text, flags=re.MULTILINE)\n",
        "    # Remove quotes from source and target text\n",
        "    text = re.sub(\"'\", '', text)\n",
        "    text = re.sub(\"'\", '', text)\n",
        "    # create a set of all special characters\n",
        "    special_characters= set(string.punctuation)\n",
        "    # Remove all the special characters\n",
        "    text = ''.join(char1 for char1 in text if char1 not in special_characters)\n",
        "    text = ''.join(char1 for char1 in text if char1 not in special_characters)\n",
        "    # Remove digits from source and target sentences\n",
        "    num_digits= str.maketrans('','', digits)\n",
        "    text = text.translate(num_digits)\n",
        "    text = text.translate(num_digits)\n",
        "    text = re.sub(r'[\\r\\n]', '', text, flags=re.MULTILINE)\n",
        "    text = re.sub(r'[\\r\\n]', '', text, flags=re.MULTILINE)\n",
        "    text = re.sub(r'\\s{2,}', ' ', text, flags=re.MULTILINE)\n",
        "    text = re.sub(r'\\s{2,}', ' ', text, flags=re.MULTILINE)\n",
        "    return text\n",
        "    \n",
        "df_m['Text'] = df_m['Text'].apply(clean_text)\n",
        "df_m['Text'] = df_m['Text'].apply(clean_text2)\n",
        "df_m['Text'] = df_m['Text'].str.replace('\\d+', '')\n",
        "df_m = df_m[df_m.Text.str.len() > 19]\n",
        "df_m_train = df_m[df_m['Datetime'] < pd.to_datetime('2021-08-01')]\n",
        "df_m_test = df_m[df_m['Datetime'] >= pd.to_datetime('2021-08-01')]\n",
        "\n",
        "# The maximum number of words to be used. (most frequent)\n",
        "MAX_NB_WORDS = 50000\n",
        "# Max number of words in each complaint.\n",
        "MAX_SEQUENCE_LENGTH = 250\n",
        "# This is fixed.\n",
        "EMBEDDING_DIM = 100\n",
        "tokenizer = Tokenizer(num_words=MAX_NB_WORDS, filters='!\"#$%&()*+,-./:;<=>?@[\\]^_`{|}~', lower=True)\n",
        "tokenizer.fit_on_texts(df_m['Text'].values)\n",
        "word_index = tokenizer.word_index\n",
        "\n",
        "X = tokenizer.texts_to_sequences(df_m['Text'].values)\n",
        "X = pad_sequences(X, maxlen=MAX_SEQUENCE_LENGTH)\n",
        "\n",
        "X_train = tokenizer.texts_to_sequences(df_m_train['Text'].values)\n",
        "X_train = pad_sequences(X_train, maxlen=MAX_SEQUENCE_LENGTH)\n",
        "\n",
        "X_test = tokenizer.texts_to_sequences(df_m_test['Text'].values)\n",
        "X_test = pad_sequences(X_test, maxlen=MAX_SEQUENCE_LENGTH)\n",
        "\n",
        "#loaded_model = load_model('prediction-political-preferences/models/best_model5.hdf5')\n",
        "loaded_model = load_model('prediction-political-preferences/models/model_3z.h5')\n",
        "predicted = loaded_model.predict(X_test)\n",
        "\n",
        "df = pd.DataFrame(predicted, columns=['KO', 'Konfederacja', 'Lewica', 'PSL', 'PiS'])\n",
        "\n",
        "#Wykres ze średnią\n",
        "df.mean().plot.bar(color=['orange', 'black', 'red', 'green', 'blue'])\n",
        "plt.title(f'Sympatie polityczne użytkownika \"{ID}\" na podstawie tweetów')\n",
        "plt.show()\n",
        "\n",
        "#Wykres z max dla każdego tweeta\n",
        "prediction_tweets = df.copy()\n",
        "prediction_tweets['partia'] = prediction_tweets.idxmax(axis=1)\n",
        "prediction_tweets['predicted'] = prediction_tweets.max(axis=1)\n",
        "prediction_tweets.groupby('partia')[['predicted']].count().apply(lambda x: x/float(x.sum())).mul(100).plot.bar()\n",
        "\n"
      ],
      "execution_count": 72,
      "outputs": [
        {
          "output_type": "display_data",
          "data": {
            "image/png": "[encoded data removed]",
            "text/plain": [
              "<Figure size 432x288 with 1 Axes>"
            ]
          },
          "metadata": {
            "needs_background": "light"
          }
        },
        {
          "output_type": "execute_result",
          "data": {
            "text/plain": [
              "<matplotlib.axes._subplots.AxesSubplot at 0x7f5b75ccb310>"
            ]
          },
          "metadata": {},
          "execution_count": 72
        },
        {
          "output_type": "display_data",
          "data": {
            "image/png": "[encoded data removed]",
            "text/plain": [
              "<Figure size 432x288 with 1 Axes>"
            ]
          },
          "metadata": {
            "needs_background": "light"
          }
        }
      ]
    }
  ]
}